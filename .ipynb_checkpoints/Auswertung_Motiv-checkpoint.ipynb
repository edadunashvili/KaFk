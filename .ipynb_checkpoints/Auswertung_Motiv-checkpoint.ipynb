{
 "cells": [
  {
   "cell_type": "markdown",
   "metadata": {},
   "source": [
    "# Verkettung von Motiven im Typ und Typencluster"
   ]
  },
  {
   "cell_type": "code",
   "execution_count": 100,
   "metadata": {
    "ExecuteTime": {
     "end_time": "2024-01-25T21:11:21.683424Z",
     "start_time": "2024-01-25T21:11:21.667056Z"
    }
   },
   "outputs": [],
   "source": [
    "mZahl = \"a551\""
   ]
  },
  {
   "cell_type": "code",
   "execution_count": 101,
   "metadata": {},
   "outputs": [],
   "source": [
    "def graph_update():\n",
    "    graph.update(alle_aeste(\"\", df))\n",
    "    graph.update(alle_aeste(\"\", df))\n",
    "    graph.update(alle_aeste(\"\", df))\n",
    "    "
   ]
  },
  {
   "cell_type": "code",
   "execution_count": 102,
   "metadata": {
    "ExecuteTime": {
     "end_time": "2024-01-25T21:11:22.943093Z",
     "start_time": "2024-01-25T21:11:21.693040Z"
    }
   },
   "outputs": [],
   "source": [
    "maerchen=\"\" \n",
    "import xml.etree.ElementTree as ET\n",
    "root_node = ET.parse('gesamt_märchen.xml').getroot()\n",
    "never_saved = True\n",
    "for ganze in root_node.findall(\".//{http://www.tei-c.org/ns/1.0}text\"):\n",
    "    if ('deu_' in ganze.attrib['{http://www.w3.org/XML/1998/namespace}id'] \n",
    "        or 'ellu' in ganze.attrib['{http://www.w3.org/XML/1998/namespace}id']\n",
    "        or 'ita' in ganze.attrib['{http://www.w3.org/XML/1998/namespace}id']\n",
    "        or 'fra' in ganze.attrib['{http://www.w3.org/XML/1998/namespace}id']\n",
    "        or 'AT_deu' in ganze.attrib['{http://www.w3.org/XML/1998/namespace}id']\n",
    "        or 'uuu_' in ganze.attrib['{http://www.w3.org/XML/1998/namespace}id']\n",
    "        or 'uuu_' in ganze.attrib['{http://www.w3.org/XML/1998/namespace}id']\n",
    "        or 'uuu_' in ganze.attrib['{http://www.w3.org/XML/1998/namespace}id']\n",
    "        or 'uuu_' in ganze.attrib['{http://www.w3.org/XML/1998/namespace}id']\n",
    "        or 'uuu_' in ganze.attrib['{http://www.w3.org/XML/1998/namespace}id']\n",
    "        or 'uuu_' in ganze.attrib['{http://www.w3.org/XML/1998/namespace}id']):\n",
    "        for body in ganze.findall(\".//{http://www.tei-c.org/ns/1.0}body\"):\n",
    "            for absatz in body.findall(\".//{http://www.tei-c.org/ns/1.0}p\"):\n",
    "                for phrase in absatz.findall(\".//{http://www.tei-c.org/ns/1.0}*\"):\n",
    "                        labela = phrase.attrib['{www.dglab.uni-jena.de/vmf/a}ana']\n",
    "                        labelb1 = phrase.attrib['{www.dglab.uni-jena.de/vmf/b1}ana']\n",
    "                        labelb2 = phrase.attrib['{www.dglab.uni-jena.de/vmf/b2}ana']\n",
    "                        labelb3 = phrase.attrib['{www.dglab.uni-jena.de/vmf/b3}ana']\n",
    "                        labelb4 = phrase.attrib['{www.dglab.uni-jena.de/vmf/b4}ana']\n",
    "                        labelb5 = phrase.attrib['{www.dglab.uni-jena.de/vmf/b5}ana']\n",
    "                        labelc1 = phrase.attrib['{www.dglab.uni-jena.de/vmf/c1}ana']\n",
    "                        labelc2 = phrase.attrib['{www.dglab.uni-jena.de/vmf/c2}ana']\n",
    "                        labelc3 = phrase.attrib['{www.dglab.uni-jena.de/vmf/c3}ana']\n",
    "                        labelc4 = phrase.attrib['{www.dglab.uni-jena.de/vmf/c4}ana']\n",
    "                        labelc5 = phrase.attrib['{www.dglab.uni-jena.de/vmf/c5}ana']\n",
    "                        labeld = phrase.attrib['{www.dglab.uni-jena.de/vmf/d}ana']\n",
    "                        quelle= ganze.attrib['{http://www.w3.org/XML/1998/namespace}id']\n",
    "                        inhalt = (phrase.text.lower().strip().replace('|','').replace(':','').replace(\"ä\",\"ae\")\n",
    "                                  .replace(\"ü\",\"ue\").replace(\"ö\",\"oe\").replace(\"ß\",\"ss\").replace(\",\",\"\")\n",
    "                                  .replace(\"«\",\"\").replace(\"»\",\"\").replace(\".\",\"\").replace('=',' ').replace(\";\",\"\")\n",
    "                                  .replace('\"',\"\").replace(\"?\",\"\").replace(\"!\",\"\").replace(\"á\",\"a\").replace(\",\",\"\")\n",
    "                                  .replace(\"\\t\",\" \").replace(\"'\",\"\").replace(\"‹\",\"\").replace(\"›\",\"\").replace(\"-\",\" \")\n",
    "                                  .replace(\"'('\",\"\").replace(\"')'\",\"\").replace('>','').replace(\"    \",\" \")\n",
    "                                  .replace(\"   \",\" \").replace(\"  \",\" \").replace('–','').replace('—','').replace('<','')\n",
    "                                  .replace(\"Â\", \"A\").replace(\"ø\", \"oe\").replace('“','').replace('„','').replace('(','')\n",
    "                                  .replace(')','').replace('*','').replace(\"\\n\",\"\\n\")\n",
    "                                  .replace(\"'''\",\"\"))\n",
    "                        if labela.startswith('a') and labela!='N':\n",
    "                            \n",
    "                            maerchen += quelle+','+labela+','+labelb1+','+labelc1+','+labelb2+','+labelc2+','+labelb3+','+labelc3+','+labelb4+','+labelc4+','+labelb5+','+labelc5+','+labeld+','+inhalt+',0'+'\\n'\n",
    "                            #maerchen += quelle+','+labela+','+labelb1+','+labelc1+','+labelb2+','+labelc2+','+labelb3+','+labelc3+','+labelb4+','+labelc4+','+labelb5+','+labelc5+','+inhalt+',0'+'\\n'\n",
    "\n",
    "with open(\"text.csv\", 'w', encoding='utf-8') as f:\n",
    "    f.write('quelle,labela,labelb1,labelc1,labelb2,labelc2,labelb3,labelc3,labelb4,labelc4,labelb5,labelc5,labeld,inhalt,index_binar')\n",
    "    #f.write('quelle,labela,labelb1,labelc1,labelb2,labelc2,labelb3,labelc3,labelb4,labelc4,labelb5,labelc5,inhalt,index_binar')\n",
    "    f.write('\\n')\n",
    "    f.write(maerchen)"
   ]
  },
  {
   "cell_type": "code",
   "execution_count": 103,
   "metadata": {
    "ExecuteTime": {
     "end_time": "2024-01-25T21:11:23.259948Z",
     "start_time": "2024-01-25T21:11:22.878454Z"
    }
   },
   "outputs": [],
   "source": [
    "abcd1=\"\"\n",
    "abcd2=\"\"\n",
    "abcd3=\"\"\n",
    "abcd4=\"\"\n",
    "abcd5=\"\"\n",
    "import pandas as pd\n",
    "from collections import Counter\n",
    "df = pd.read_csv('text.csv',  encoding='utf-8')\n",
    "abcd1 += df.quelle+','+df.labela+':'+df.labelb1+':'+df.labelc1+':'+df.labeld+','+df.inhalt+',0'\n",
    "abcd2 += df.quelle+','+df.labela+':'+df.labelb2+':'+df.labelc2+':'+df.labeld+','+df.inhalt+',0'\n",
    "abcd3 += df.quelle+','+df.labela+':'+df.labelb3+':'+df.labelc3+':'+df.labeld+','+df.inhalt+',0'\n",
    "abcd4 += df.quelle+','+df.labela+':'+df.labelb4+':'+df.labelc4+':'+df.labeld+','+df.inhalt+',0'\n",
    "abcd5 += df.quelle+','+df.labela+':'+df.labelb5+':'+df.labelc5+':'+df.labeld+','+df.inhalt+',0'\n",
    "# maca=':0:'\n",
    "# for t in abcd3:\n",
    "#     if maca not in t:\n",
    "recorded=(abcd1+'\\n'+abcd2+'\\n'+abcd3+'\\n'+abcd4+'\\n'+abcd5+'\\n')\n",
    "with open(\"text_aw.csv\", 'w', encoding='utf-8') as w:\n",
    "    w.write('quelle,index_string,inhalt,index_binar\\n')\n",
    "    w.write('000:ballast,ballast,ballast,0\\n')\n",
    "    w.write(\"\".join(recorded))\n",
    "    w.close()"
   ]
  },
  {
   "cell_type": "code",
   "execution_count": 104,
   "metadata": {
    "ExecuteTime": {
     "end_time": "2024-01-25T21:11:23.350663Z",
     "start_time": "2024-01-25T21:11:23.261464Z"
    }
   },
   "outputs": [],
   "source": [
    "import csv\n",
    "mom=[]\n",
    "with open('text_aw.csv', 'r', encoding='utf-8') as f:\n",
    "    reader = csv.reader(f) \n",
    "    for line in reader:\n",
    "        if ':N:' not in line[1]:\n",
    "            mom.append(line)"
   ]
  },
  {
   "cell_type": "code",
   "execution_count": 105,
   "metadata": {
    "ExecuteTime": {
     "end_time": "2024-01-25T21:11:23.390999Z",
     "start_time": "2024-01-25T21:11:23.388338Z"
    }
   },
   "outputs": [],
   "source": [
    "import shutil, os\n",
    "with open ('text_ax.txt', 'wt', encoding='utf-8') as f:\n",
    "    writer = csv.writer(f, delimiter=',')\n",
    "    writer.writerow(mom)"
   ]
  },
  {
   "cell_type": "code",
   "execution_count": 106,
   "metadata": {
    "ExecuteTime": {
     "end_time": "2024-01-25T21:11:23.432672Z",
     "start_time": "2024-01-25T21:11:23.391665Z"
    }
   },
   "outputs": [],
   "source": [
    "with open('text_ax.txt', 'r', encoding='utf-8') as file:\n",
    "    filedata = file.read()\n",
    "filedata = filedata.replace(']\",\"[', \"\\n\").replace('\"[','').replace(']\"','').replace(\" '\",\"\").replace(\"'\",\"\")\n",
    "with open('text_ay.csv', 'w', encoding='utf-8') as file:\n",
    "    file.write(filedata)  "
   ]
  },
  {
   "cell_type": "code",
   "execution_count": 107,
   "metadata": {
    "ExecuteTime": {
     "end_time": "2024-01-25T21:11:24.190477Z",
     "start_time": "2024-01-25T21:11:24.156617Z"
    }
   },
   "outputs": [],
   "source": [
    "import pandas as pd\n",
    "df = pd.read_csv('text_ay.csv', encoding='utf-8')\n",
    "\n",
    "from collections import Counter\n",
    "def ep_format(ep_full):\n",
    "    return (ep_full.split(':'))[0]\n",
    "def ep_name_format(ep_full):\n",
    "    sublist = (ep_full)\n",
    "    name = \"\"\n",
    "    for strg in sublist:\n",
    "        name += strg#+'_'\n",
    "    return name\n",
    "def quellenvergleich (df, i1, i2):\n",
    "    return df.quelle[i1]==df.quelle[i2]\n",
    "def ast(gesep, df):\n",
    "    ep_tree = {}\n",
    "    a_liste = []\n",
    "    z_liste = []  \n",
    "    df_len = len(df.index_string)\n",
    "    for i, ep in enumerate(df.index_string):\n",
    "        if gesep == ep:\n",
    "            if (i > 0)&(quellenvergleich(df, i, i-1)):\n",
    "                a = df.index_string[i-1]\n",
    "            else:\n",
    "                a = 'Anf-'+ep_name_format(gesep)\n",
    "            if (i < df_len - 1):\n",
    "                if not (quellenvergleich(df, i, i+1)):\n",
    "                    z = 'End-'+ep_name_format(gesep)\n",
    "                else:        \n",
    "                    z = df.index_string[i+1]\n",
    "            else:\n",
    "                z = 'End-'+ep_name_format(gesep)\n",
    "            a_liste.append(a)\n",
    "            z_liste.append(z)\n",
    "    return {gesep: [Counter(a_liste), Counter(z_liste)]}"
   ]
  },
  {
   "cell_type": "code",
   "execution_count": 108,
   "metadata": {
    "ExecuteTime": {
     "end_time": "2024-01-25T21:11:25.557996Z",
     "start_time": "2024-01-25T21:11:25.546033Z"
    }
   },
   "outputs": [],
   "source": [
    "def alle_aeste(gesep, df):\n",
    "    episoden_baeume = {} \n",
    "    ep_list = []\n",
    "    for ep_full in df.index_string:         \n",
    "        ep = ep_format(ep_full)     \n",
    "        if gesep == ep:                      \n",
    "            ep_list.append(ep_full)\n",
    "    for ep in set(ep_list):\n",
    "        episoden_baeume.update(ast(ep,df))\n",
    "    return episoden_baeume"
   ]
  },
  {
   "cell_type": "code",
   "execution_count": 109,
   "metadata": {
    "ExecuteTime": {
     "end_time": "2024-01-25T21:11:29.915657Z",
     "start_time": "2024-01-25T21:11:29.903072Z"
    }
   },
   "outputs": [],
   "source": [
    "graph = alle_aeste(mZahl, df)\n",
    "graph_update()"
   ]
  },
  {
   "cell_type": "code",
   "execution_count": 132,
   "metadata": {
    "ExecuteTime": {
     "end_time": "2024-01-25T21:11:31.249124Z",
     "start_time": "2024-01-25T21:11:30.925952Z"
    }
   },
   "outputs": [],
   "source": [
    "import matplotlib.pyplot as plt\n",
    "import networkx as nx\n",
    "def cutoff_ast_data(wuerzel, graph, nachbar_liste, cutoff = 0):\n",
    "    vor = graph[wuerzel][0]\n",
    "    zurueck = graph[wuerzel][1]\n",
    "    nachbarn = vor.copy()\n",
    "    nachbarn.update(zurueck)\n",
    "    for ast_name, ast_gewicht in sorted(nachbarn.items()):\n",
    "        if (ast_gewicht >= cutoff):\n",
    "             nachbar_liste.append([ep_name_format(wuerzel), \n",
    "                                   ep_name_format(ast_name), ast_gewicht])   \n",
    "def cutoff_graph_data(graph, cutoff = 0):\n",
    "    nachbar_liste = []\n",
    "    for i, (k, v) in enumerate(sorted(graph.items())):\n",
    "        cutoff_ast_data(k, graph, nachbar_liste, cutoff)\n",
    "    neue_nachbar_liste = [[i, nachbar] for i, nachbar in enumerate(nachbar_liste)]\n",
    "    return neue_nachbar_liste\n",
    "def interactive_graph_data(graph_data, loesch_index, gew_dict):\n",
    "    for k, v in gew_dict.items():\n",
    "        graph_data[k][1][2] = v\n",
    "    neue_nachbar_liste = [[i, nachbar[1]] for i, \n",
    "                          nachbar in enumerate(graph_data) if i not in loesch_index]\n",
    "    return neue_nachbar_liste\n",
    "def graph_bauer(graph_data):\n",
    "    G = nx.DiGraph() #DiGraph\n",
    "    w_liste=[]\n",
    "    for el in graph_data:\n",
    "        n1 = el[1][0]\n",
    "        n2 = el[1][1]\n",
    "        w = el[1][2]\n",
    "        w_liste.append(w)\n",
    "        G.add_edge(n1, n2, weight=w, title=w)\n",
    "        G.add_edge(n1, n2, weight=w, title=w)\n",
    "        G.add_node(n1, title=n1, size=15)\n",
    "        G.add_node(n2, title=n2, size=15)\n",
    "\n",
    "    return G,w_liste"
   ]
  },
  {
   "cell_type": "code",
   "execution_count": 133,
   "metadata": {
    "ExecuteTime": {
     "end_time": "2024-01-25T21:11:32.130557Z",
     "start_time": "2024-01-25T21:11:32.122432Z"
    },
    "scrolled": true
   },
   "outputs": [],
   "source": [
    "haeufigkeit= 1\n",
    "auto_graph=cutoff_graph_data(graph, haeufigkeit) #alternativ:auto_graph=cutoff_graph_volldata(graph, haeufigkeit)"
   ]
  },
  {
   "cell_type": "code",
   "execution_count": 134,
   "metadata": {
    "ExecuteTime": {
     "end_time": "2024-01-25T21:12:53.897428Z",
     "start_time": "2024-01-25T21:12:53.677815Z"
    },
    "scrolled": false
   },
   "outputs": [
    {
     "name": "stdout",
     "output_type": "stream",
     "text": [
      "Warning: When  cdn_resources is 'local' jupyter notebook has issues displaying graphics on chrome/safari. Use cdn_resources='in_line' or cdn_resources='remote' if you have issues viewing graphics in a notebook.\n",
      "nx.html\n"
     ]
    },
    {
     "data": {
      "text/html": [
       "\n",
       "        <iframe\n",
       "            width=\"100%\"\n",
       "            height=\"900px\"\n",
       "            src=\"nx.html\"\n",
       "            frameborder=\"0\"\n",
       "            allowfullscreen\n",
       "            \n",
       "        ></iframe>\n",
       "        "
      ],
      "text/plain": [
       "<IPython.lib.display.IFrame at 0x1b9407f5750>"
      ]
     },
     "execution_count": 134,
     "metadata": {},
     "output_type": "execute_result"
    }
   ],
   "source": [
    "from pyvis.network import Network\n",
    "G,W = graph_bauer(auto_graph)\n",
    "# show_graph(G,W)\n",
    "nt = Network(notebook=True, height='900px', width='100%', directed=False, \n",
    "             bgcolor='#ffffff', font_color=False, layout=None, heading='', cdn_resources='local')\n",
    "nt.from_nx(G)\n",
    "nt.show('nx.html')"
   ]
  },
  {
   "cell_type": "code",
   "execution_count": 86,
   "metadata": {},
   "outputs": [],
   "source": [
    "mWert=\"a300:F:Wassermangel_beheben:rHD_rVB\""
   ]
  },
  {
   "cell_type": "code",
   "execution_count": 62,
   "metadata": {
    "ExecuteTime": {
     "end_time": "2024-01-25T20:53:45.643261Z",
     "start_time": "2024-01-25T20:53:45.629312Z"
    },
    "scrolled": false
   },
   "outputs": [
    {
     "name": "stdout",
     "output_type": "stream",
     "text": [
      "Anf-a300:h:Kinderlosigkeit:rHH_rST {-13}\n",
      "a300:h:Kinderlosigkeit:rHH_rST {-12}\n",
      "a300:H:Empfängnismittel_erhalten:rHH_rST_rZM {-11}\n",
      "a300:H:Wunderbare_Empfängnis:rHD_rHH_rHF {-10}\n",
      "a550:f:Vortäuschen_der_Heldentat:rHH_fHD {-10}\n",
      "a300:h:Ausgangslosen_Ort_gelangen:rHD_rPP {-9}\n",
      "a300:H:Geboren_werden:rHD_rHH_rHF {-9}\n",
      "a650A:F:Geboren_werden:rHD {-9}\n",
      "a300:h:Auslösen_von_Wassermangel:rAN {-8}\n",
      "a300:unklar:unklar:rHD_rVB_rPP {-8}\n",
      "a300:F:Wassermangel_beheben:rHD_rPP {-8}\n",
      "a303:H:Markieren:rHD_rHF {-8}\n",
      "a300:F:Menschliche_Opfergabe_beheben:rHD_rPP {-7}\n",
      "a300:h:Menschliches_Opfer_fordern:rAN {-7}\n",
      "a300:f:Kontakt_abbrechen:rHD_rVB_rPP {-7}\n",
      "a300:F:Erpressen_beheben:rHD_rPP {-6}\n",
      "a300:F:Vertrag_abschließen:rHD_rHP_rPP {-6}\n",
      "a301:f:Ausgangslosen_Ort_gelangen:rHD_fZM {-1}\n",
      "Anf-a300:F:Wassermangel_beheben:rHD_rVB {-1}\n",
      "a300:F:Wassermangel_beheben:rHD_rVB {0}\n",
      "a300:F:Mut_zeigen:rHD_rVB_rAN {1}\n",
      "a300:F:Menschliche_Opfergabe_beheben:rHD_rVB {1}\n",
      "a300:H:Zweikampf:rHD_rAN {1}\n",
      "a300:F:Mut_zeigen:rHD_rAN {1}\n",
      "a750B:F:Erpressen_beheben:rHD_rST {1}\n",
      "a300:f:Leben_gefährden:rHD_rAN {2}\n",
      "a300:H:Wassermangel_beheben:rHD_rVB {2}\n",
      "a300:h:Kontakt_abbrechen:rHD_rPP {2}\n",
      "a300:F:Markieren:rHD_rAN {2}\n",
      "a300:Ff:Vorübergehende_Lösung:rHD_rVB {2}\n",
      "a300:F:Vertrag_abschließen:rHD_rHP {2}\n",
      "a300:h:Kontakt_abbrechen:rHD_rAN {2}\n",
      "a300:F:Mut_zeigen:rHD_rPP_rAN {2}\n",
      "a300:F:Markieren:rHD_rPP {2}\n",
      "a300:f:Kontakt_abbrechen:rHD_rPP {2}\n",
      "a300:F:Wassermangel_beheben:rVB {2}\n",
      "a300:H:Wassermangel_beheben:rVB {2}\n",
      "a300:F:Um_Gegenleistung_bitten:rHD_rHP {2}\n",
      "a300:F:Abraten_von_der_Mission:rHD_rVB {2}\n",
      "a300:Hh:Wassermangel_beheben:rHD_rVB {2}\n",
      "a554:F:Sorge_um_Schutzbedürftigen:rHD_rST {2, 4, 5, 7}\n",
      "a554:H:Tierjunges_erhalten:rHD_rHF {2}\n",
      "a300:F:Kontakt_wiederherstellen:rVB {3}\n",
      "a300:h:Angebot_von_Heiratswilligen_ablehnen:rHD_rHP {3}\n",
      "a300:f:Missetat_Entmachten:rHD_fHD {3}\n",
      "a300:H:Menschliche_Opfergabe_beheben:rHP_fHD {3}\n",
      "a300:F:unklar:rHD_rVB {3}\n",
      "a300:Hh:Überweisung_an_anderen_Stifter_oder_Helfer:rHD_rHP {3}\n",
      "a300:H:Flug_zeugendes_Transportmittel_erhalten:rHD_rHP {3}\n",
      "a300:F:Um_Gegenleistung_bitten:rHD_rVB {3}\n",
      "a300:F:Kontakt_wiederherstellen:rHP {3}\n",
      "a300:H:Wassermangel_beheben:rVB_rPP {3}\n",
      "a300:F:Kontakt_wiederherstellen:rVB_rHP_rPP {3}\n",
      "a300:F:Wegweisung_mit_Optionen:rHD_rHP {3}\n",
      "a300:H:Menschliche_Opfergabe_beheben:rHD_rPP {3}\n",
      "a300:Ff:Überweisung_an_anderen_Stifter_oder_Helfer:rHD_rHP {3}\n",
      "a300:H:Zweikampf:rHD_rPP_rAN {3}\n",
      "a300:F:Abraten_von_der_Mission:rHD_rPP {3}\n",
      "a300:f:Angebot_von_Schatzhütern_ablehnen:rHD_rHP {3}\n",
      "a300:H:Lebensgefahr_beheben:rHD_fZM {3}\n",
      "a300:h:Abraten_von_der_Mission:rHD_rVB {3}\n",
      "a312D:F:Identität_wechseln:N {3}\n",
      "a551:F:Gastgeberschaft_sichern:rHD_rVB {3}\n",
      "a519:F:Wegweisung_mit_Optionen:rHD {3}\n",
      "End-a300:H:Wassermangel_beheben:rVB {3}\n",
      "a300:h:Vortäuschen_der_Heldentat:rHP_fHD {4}\n",
      "a300:H:Kontakt_wiederherstellen:rVB {4}\n",
      "a300:F:Ziel_finden:rHD_rHP {4}\n",
      "a300:Ff:Überweisung_an_anderen_Stifter_oder_Helfer:rHD_rVB {4}\n",
      "a300:F:Vertrag_appelieren:rHD_rHP {4}\n",
      "a300:h:Wegweisung_mit_Optionen:rHD_rZM {4}\n",
      "a300:F:Sich_oder_Andere_tragen_lassen:rHD_rZM {4}\n",
      "a300:F:Markieren_erkennen:rHD_rHP_rPP {4}\n",
      "a300:h:Abraten_von_der_Mission:rHD_rPP {4}\n",
      "a300:H:Markieren_erkennen:rHD_rHP_fHD {4}\n",
      "a300:F:Markieren:rHD_rPP_rAN {4}\n",
      "a300:F:Markieren_erkennen:rHD_rPP {4}\n",
      "a300:F:Ausrüsten:rHD_rHF_rPP {4}\n",
      "a300:H:Flug_zeugendes_Transportmittel_erhalten:rHD_rVB {4}\n",
      "a300:F:Ausrüsten:rHD_rHF {4}\n",
      "a300:f:Vortäuschen_der_Heldentat:rVB_fHD {4}\n",
      "a554:F:Ausrüsten:rHD_rHF {4, inf}\n",
      "a554:F:Begnadigen_der_potenziellen_Beute:rHD_rHF {4}\n",
      "a301:h:Wegweisung_mit_Optionen:rHD_fZM {4}\n",
      "a301:h:Wegweisung_mit_Optionen:N {4}\n",
      "a312D:h:Missetat_Entmachten:N {4}\n",
      "Anf-a300:h:Ausgangslosen_Ort_gelangen:rHD_rVB {4}\n",
      "a550:h:Missetat_Entmachten:rHD_fHD {4}\n",
      "a300:H:Markieren_erkennen:rHD_rHP {5}\n",
      "a300:F:Markieren_erkennen:rPP_fHD {5}\n",
      "a300:H:Kontakt_wiederherstellen:rHD_rHP_rPP {5}\n",
      "a300:H:Kontakt_wiederherstellen:rHD_rHP_fHD {5}\n",
      "a300:F:Ausrüsten:rHD_rHP {5}\n",
      "a300:H:Kontakt_wiederherstellen:rHD_rPP {5}\n",
      "a300:F:Markieren_erkennen:rHD_rHP {5}\n",
      "a300:f:Kontakt_abbrechen:rHD_rPP_rAN {5}\n",
      "a300:h:Ausgangslosen_Ort_gelangen:rHD_rVB {5}\n",
      "a300:h:Fehlende_Nahrung:rHD_rHF {5}\n",
      "a301:f:Erpressen_Heiratszusage:rHD_rPP_fHD {5}\n",
      "a300:F:Entmachten_beheben:rHD_rHF {6}\n",
      "a300:Hh:Nahrung_auf_Kosten_der_Selbstbehinderung:rHD_rHF {6}\n",
      "a300:f:Erpressen_beheben:rHD_rVB {6}\n",
      "a300:H:Heiraten:rHD_rPP {6}\n",
      "a300:H:Kontakt_wiederherstellen:rHD_rHP {6}\n",
      "a300:F:Auslösen_von_Mitleidsgefühl:rHD_rHF {7}\n",
      "a300:F:Ausgangslosen_Ort_entkommen:rHD_rHF {7}\n",
      "a300:F:Unterirdische_Gefangenschaft_entkommen:rHD_rHF {7}\n",
      "a300:F:Krisenursache_ergründen:rHD_rHF {7}\n",
      "a303:F:Auslösen_von_Neugier:rHD_rPP {7}\n",
      "a300:H:Behinderung_heilen:rHD_rHF {8}\n",
      "a300:F:Markieren_erkennen:rHD_rPP_fVB {8}\n",
      "a300:F:Behinderung_heilen:rHD_rHF {8}\n",
      "a530:unklar:unklar:rHD_rHF {8}\n",
      "a300:F:Held_erkennen:rHD_rPP_fVB {9}\n",
      "a301:f:Ungewünschter_Heiratsantrag:rHD_rPP_fHD {9}\n",
      "a301:F:Zwangsehe_verhindern:rHD_rVB {9}\n",
      "a301:F:Zwangsehe_verhindern:rHD_fHD {9}\n",
      "a550:F:Identität_wechseln:rHD_fHD {9}\n",
      "a301:F:Zwangsehe_verhindern:rHD_rPP_fHD {9}\n",
      "a301:H:Schöne_ergreifen:N {9}\n",
      "a300:F:Bestrafung:rHD_rPP_fVB {10}\n",
      "a300:f:Heiraten:rHD_rPP {11}\n",
      "End-a300:f:Heiraten:rHD_rPP {12}\n",
      "a300:F:Ausrüsten:rHD_rVB {inf}\n",
      "a300:H:Ausrüsten:rHD_rHP {inf}\n",
      "a300:F:Heiraten:rHD_rPP {inf}\n",
      "a519:H:Zweikampf:rHD_rAN {inf}\n",
      "End-a300:F:Heiraten:rHD_rPP {inf}\n"
     ]
    }
   ],
   "source": [
    "import numpy as np\n",
    "def neighbour_is_includable(node, neighbour):\n",
    "    designation = \":\".join(node.split(\":\")[0:1])\n",
    "    return neighbour.startswith(designation)\n",
    "\n",
    "def pruned_edges(node, neighbours):\n",
    "    return [neighbor for neighbor in neighbours if neighbour_is_includable(node, neighbor)]\n",
    "\n",
    "def make_pruned_graph(graph):\n",
    "    pruned_graph = {}\n",
    "    for node, (incoming, outgoing) in graph.items():\n",
    "        pruned_incoming = pruned_edges(node, incoming)\n",
    "        pruned_outgoing = pruned_edges(node, outgoing)\n",
    "        pruned_graph[node] = (pruned_incoming, pruned_outgoing)\n",
    "    return pruned_graph\n",
    "\n",
    "def make_backbone_di_graph(pruned_graph):\n",
    "    new_DiGraph = nx.DiGraph()\n",
    "    for node, (incoming, outgoing) in pruned_graph.items():\n",
    "        for in_node in incoming:\n",
    "            new_DiGraph.add_edge(in_node, node)\n",
    "        for out_node in outgoing:\n",
    "            new_DiGraph.add_edge(node, out_node)\n",
    "    return new_DiGraph\n",
    "\n",
    "def signed_shortest_path_length(G, source, target):\n",
    "    try:\n",
    "        pl = nx.dijkstra_path_length(G, source=source, target=target)\n",
    "    except nx.NodeNotFound:\n",
    "        pl = np.Inf\n",
    "    except nx.NetworkXNoPath:\n",
    "        try:\n",
    "            pl = - nx.dijkstra_path_length(G, source=target, target=source)\n",
    "        except nx.NodeNotFound:\n",
    "            pl = np.Inf\n",
    "        except nx.NetworkXNoPath:\n",
    "            pl = np.Inf\n",
    "    return pl\n",
    "\n",
    "def create_main_node_distances(start_node, pruned_graph, graph, nx_graph):\n",
    "    distances = { key:[] for key in graph}\n",
    "    backbone_di_graph= make_backbone_di_graph(pruned_graph)\n",
    "    for node in pruned_graph:\n",
    "        distances[node] = {signed_shortest_path_length(backbone_di_graph, start_node, node)}\n",
    "    return distances\n",
    "\n",
    "def add_sub_node_distances(node, sub_nodes, pruned_graph, distances, d):\n",
    "    for sub_node in sub_nodes:\n",
    "        if sub_node not in pruned_graph.keys():\n",
    "            if sub_node not in distances:\n",
    "                distances[sub_node] = set()\n",
    "            new_dists = {dist + d for dist in distances[node]}\n",
    "            distances[sub_node].update(new_dists)\n",
    "\n",
    "def create_distance_dict(start_node, graph, G):\n",
    "    pruned_graph = make_pruned_graph(graph)\n",
    "    distances = create_main_node_distances(start_node, pruned_graph, graph, G)\n",
    "    for node, (incoming, outgoing) in graph.items():\n",
    "        add_sub_node_distances(node, incoming, pruned_graph, distances, -1)\n",
    "        add_sub_node_distances(node, outgoing, pruned_graph, distances, 1)\n",
    "    return distances\n",
    "\n",
    "\n",
    "start_node = mWert\n",
    "distances = create_distance_dict(start_node, graph, G)\n",
    "#print(distances)\n",
    "sorted_keys = sorted(distances, key=lambda x: min(distances[x]))\n",
    "sorted_distances = {key: distances[key] for key in sorted_keys}\n",
    "#print(sorted_distances)\n",
    "msia=\"\"\n",
    "for k, v in sorted_distances.items():\n",
    "    sia=(f\"{k} {v}\")\n",
    "    msia+=sia+'<br>'\n",
    "    print(sia)"
   ]
  }
 ],
 "metadata": {
  "kernelspec": {
   "display_name": "Python 3 (ipykernel)",
   "language": "python",
   "name": "python3"
  },
  "language_info": {
   "codemirror_mode": {
    "name": "ipython",
    "version": 3
   },
   "file_extension": ".py",
   "mimetype": "text/x-python",
   "name": "python",
   "nbconvert_exporter": "python",
   "pygments_lexer": "ipython3",
   "version": "3.11.5"
  }
 },
 "nbformat": 4,
 "nbformat_minor": 4
}

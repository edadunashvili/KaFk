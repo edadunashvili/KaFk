{
 "cells": [
  {
   "cell_type": "code",
   "execution_count": 2,
   "id": "17875218",
   "metadata": {},
   "outputs": [],
   "source": [
    "schema=\"\" \n",
    "import xml.etree.ElementTree as ET\n",
    "root_node = ET.parse('gesamt_märchen.xml').getroot()\n",
    "inhalt_voll=\"\"\n",
    "never_saved = True\n",
    "schema_dict = dict()\n",
    "for ganze in root_node.findall(\".//{http://www.tei-c.org/ns/1.0}text\"):\n",
    "    if 'zyx_' in ganze.attrib['{http://www.w3.org/XML/1998/namespace}id']:\n",
    "        for body in ganze.findall(\".//{http://www.tei-c.org/ns/1.0}body\"):\n",
    "            for absatz in body.findall(\".//{http://www.tei-c.org/ns/1.0}p\"):\n",
    "                for phrase in absatz.findall(\".//{http://www.tei-c.org/ns/1.0}*\"):\n",
    "                        labell = phrase.attrib['{www.dglab.uni-jena.de/vmf/l}ana']\n",
    "                        labela = phrase.attrib['{www.dglab.uni-jena.de/vmf/a}ana']\n",
    "                       \n",
    "                        if labela.startswith('m'):\n",
    "                            labelc = (labell.split(':'))[0]\n",
    "                            labelm = (labela.split('m')[1])\n",
    "\n",
    "                            combined_label = labelc+labelm\n",
    "\n",
    "                            if labell not in schema_dict:\n",
    "                                schema_dict[labell] = {combined_label}\n",
    "                            else:\n",
    "                                schema_dict[labell].add(combined_label)\n",
    "\n",
    "for k, v in sorted(schema_dict.items()):\n",
    "    schema += f'<xs:enumeration value=\"{k}={\" \".join(sorted(v))}\"><xs:annotation><xs:documentation>\"{\" \".join(sorted(v))}\"</xs:documentation></xs:annotation></xs:enumeration>\\n'\n",
    "\n",
    "with open(\"schema.txt\", 'w', encoding='utf-8') as f:\n",
    "    f.write(schema)"
   ]
  },
  {
   "cell_type": "code",
   "execution_count": null,
   "id": "db8ab6e1",
   "metadata": {},
   "outputs": [],
   "source": []
  }
 ],
 "metadata": {
  "kernelspec": {
   "display_name": "Python 3 (ipykernel)",
   "language": "python",
   "name": "python3"
  },
  "language_info": {
   "codemirror_mode": {
    "name": "ipython",
    "version": 3
   },
   "file_extension": ".py",
   "mimetype": "text/x-python",
   "name": "python",
   "nbconvert_exporter": "python",
   "pygments_lexer": "ipython3",
   "version": "3.9.7"
  }
 },
 "nbformat": 4,
 "nbformat_minor": 5
}

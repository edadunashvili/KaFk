{
 "cells": [
  {
   "cell_type": "code",
   "execution_count": 170,
   "id": "db8ab6e1",
   "metadata": {},
   "outputs": [],
   "source": [
    "schema=\"\" \n",
    "import xml.etree.ElementTree as ET\n",
    "root_node = ET.parse('gesamt_märchen.xml').getroot()\n",
    "never_saved = True\n",
    "schema_dict = dict()\n",
    "for ganze in root_node.findall(\".//{http://www.tei-c.org/ns/1.0}text\"):\n",
    "    if 'zyx_' in ganze.attrib['{http://www.w3.org/XML/1998/namespace}id']:\n",
    "        for body in ganze.findall(\".//{http://www.tei-c.org/ns/1.0}body\"):\n",
    "            for absatz in body.findall(\".//{http://www.tei-c.org/ns/1.0}p\"):\n",
    "                for phrase in absatz.findall(\".//{http://www.tei-c.org/ns/1.0}*\"):\n",
    "                        labelc = phrase.attrib['{www.dglab.uni-jena.de/vmf/c}ana']\n",
    "                        labelb = phrase.attrib['{www.dglab.uni-jena.de/vmf/b}ana']\n",
    "                        if labelb!='':\n",
    "                            labeld=labelb+':'\n",
    "                            combined_label =labeld+labelc\n",
    "                            schema_dict[combined_label] = {combined_label}\n",
    "for k, v in sorted(schema_dict.items()):\n",
    "    schema += f'<xs:enumeration value=\"{\"\".join(sorted(v))}\"/>\\n'\n",
    "\n",
    "with open(\"schema.txt\", 'w', encoding='utf-8') as f:\n",
    "    f.write(schema)"
   ]
  },
  {
   "cell_type": "code",
   "execution_count": null,
   "id": "a1bb5920",
   "metadata": {},
   "outputs": [],
   "source": []
  }
 ],
 "metadata": {
  "kernelspec": {
   "display_name": "Python 3 (ipykernel)",
   "language": "python",
   "name": "python3"
  },
  "language_info": {
   "codemirror_mode": {
    "name": "ipython",
    "version": 3
   },
   "file_extension": ".py",
   "mimetype": "text/x-python",
   "name": "python",
   "nbconvert_exporter": "python",
   "pygments_lexer": "ipython3",
   "version": "3.9.7"
  }
 },
 "nbformat": 4,
 "nbformat_minor": 5
}

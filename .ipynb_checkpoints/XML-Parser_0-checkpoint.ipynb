{
 "cells": [
  {
   "cell_type": "code",
   "execution_count": 10,
   "id": "6ea8bcae",
   "metadata": {},
   "outputs": [],
   "source": [
    "article_text=\"\" \n",
    "import xml.etree.ElementTree as ET\n",
    "root_node = ET.parse('gesamt_märchen.xml').getroot()\n",
    "for bode in root_node.findall(\".//{http://www.tei-c.org/ns/1.0}text\"):\n",
    "    if 'zyx_' in bode.attrib['{http://www.w3.org/XML/1998/namespace}id']:\n",
    "        for tag in bode.findall(\".//{http://www.tei-c.org/ns/1.0}p\"):\n",
    "            \n",
    "            value1 = tag.attrib['decls']\n",
    "            value2 = tag.text.lower()\n",
    "            value3 = tag.attrib['{www.dglab.uni-jena.de/kf}ana']\n",
    "            value4 = tag.attrib['n']\n",
    "            if \"\" in value3:\n",
    "                 \n",
    "                article_text += value1+'|'+value2+'|'+ value3+'|'+value4+'\\n'\n",
    "                with open(\"file.csv\", 'w', encoding='utf-8') as f:\n",
    "                    f.write('quelle|episode|index_string|index_binar\\n')\n",
    "                    f.write(article_text)\n",
    "f.close()"
   ]
  },
  {
   "cell_type": "code",
   "execution_count": 6,
   "id": "f9042f20",
   "metadata": {},
   "outputs": [],
   "source": [
    "fin = open('file.csv','r', encoding ='utf-8')\n",
    "fout = open('episode_string_train.csv', \"wt\", encoding ='utf-8')\n",
    "for kfz in fin:\n",
    "    fout.write(kfz.replace(\"ä\",\"ae\").replace(\"ü\",\"ue\").replace(\"ö\",\"oe\").replace(\"ß\",\"ss\")\n",
    "        .replace(\",\",\"\").replace(\"«\",\"\").replace(\"»\",\"\").replace(\".\",\"\").replace(\":\",\"\")\n",
    "        .replace(\";\",\"\").replace('\"',\"\").replace(\"?\",\"\").replace(\"!\",\"\").replace(\"á\",\"a\")\n",
    "        .replace(\",\",\"\").replace(\"\\t\",\" \").replace(\"'\",\"\").replace(\"‹\",\"\").replace(\"›\",\"\")\n",
    "        .replace(\"-\",\" \").replace(\"'('\",\"\").replace(\"')'\",\"\").replace('>','').replace(\"    \",\" \")\n",
    "        .replace(\"   \",\" \").replace(\"  \",\" \").replace('–','').replace('—','').replace('<','').replace(\"Â\", \"A\")\n",
    "        .replace(\"ø\", \"oe\").replace('“','').replace('„','').replace('(','').replace(')','').replace(\"‚\", \"\")\n",
    "        .replace ('|',','))\n",
    "fin.close()\n",
    "fout.close()"
   ]
  },
  {
   "cell_type": "code",
   "execution_count": 7,
   "id": "03f6ea9a",
   "metadata": {},
   "outputs": [
    {
     "name": "stdout",
     "output_type": "stream",
     "text": [
      "Counter({'e300_c': 1, 'e300_e': 1})\n"
     ]
    }
   ],
   "source": [
    "import pandas as pd\n",
    "from collections import Counter\n",
    "df = pd.read_csv('episode_string_train.csv',  encoding='utf-8')\n",
    "indexliste=Counter(df.index_string)\n",
    "print(indexliste, sep='\\n')"
   ]
  },
  {
   "cell_type": "raw",
   "id": "987bcd17",
   "metadata": {},
   "source": [
    "for $e in doc('tei_test.xml')//text\n",
    "for $d in $e/body/p\n",
    "return insert node(attribute {\"n\"} {$e/data([@xml:id])}, attribute{\"xml:base\"}{\"#\"},attribute  {\"ana\"}{'0'}) into $d"
   ]
  }
 ],
 "metadata": {
  "kernelspec": {
   "display_name": "Python 3 (ipykernel)",
   "language": "python",
   "name": "python3"
  },
  "language_info": {
   "codemirror_mode": {
    "name": "ipython",
    "version": 3
   },
   "file_extension": ".py",
   "mimetype": "text/x-python",
   "name": "python",
   "nbconvert_exporter": "python",
   "pygments_lexer": "ipython3",
   "version": "3.9.7"
  }
 },
 "nbformat": 4,
 "nbformat_minor": 5
}

{
 "cells": [
  {
   "cell_type": "code",
   "execution_count": 14,
   "id": "3e92d508",
   "metadata": {},
   "outputs": [
    {
     "ename": "SyntaxError",
     "evalue": "invalid syntax (Temp/ipykernel_13936/2661890442.py, line 3)",
     "output_type": "error",
     "traceback": [
      "\u001b[1;36m  File \u001b[1;32m\"C:\\Users\\elguj\\AppData\\Local\\Temp/ipykernel_13936/2661890442.py\"\u001b[1;36m, line \u001b[1;32m3\u001b[0m\n\u001b[1;33m    l = (\"RHD_RHD\", \"RHD_RHH\", \"RHD_RHF\", \"RHD_RRE\", \"RHD_RST\", \"RHD_RVB\", \"RHD_RBZ\", \"RHD_RZO\", \"RHD_RHP\", \"RHD_RPP\", \"RHD_RAN\", \"RHD_FHD\", \"RHD_FHH\", \"RHD_FHF\", \"RHD_FRE\", \"RHD_FST\", \"RHD_FVB\", \"RHD_FBZ\", \"RHD_FZO\", \"RHD_FHP\", \"RHD_FPP\", \"RHD_FAN\", \"RHH_RHH\", \"RHH_RHF\", \"RHH_RRE\", \"RHH_RST\", \"RHH_RVB\", \"RHH_RBZ\", \"RHH_RZO\", \"RHH_RHP\", \"RHH_RPP\", \"RHH_RAN\", \"RHH_FHD\", \"RHH_FHH\", \"RHH_FHF\", \"RHH_FRE\", \"RHH_FST\", \"RHH_FVB\", \"RHH_FBZ\", \"RHH_FZO\", \"RHH_FHP\", \"RHH_FPP\", \"RHH_FAN\", \"RHF_RHF\", \"RHF_RRE\", \"RHF_RST\", \"RHF_RVB\", \"RHF_RBZ\", \"RHF_RZO\", \"RHF_RHP\", \"RHF_RPP\", \"RHF_RAN\", \"RHF_FHD\", \"RHF_FHH\", \"RHF_FHF\", \"RHF_FRE\", \"RHF_FST\", \"RHF_FVB\", \"RHF_FBZ\", \"RHF_FZO\", \"RHF_FHP\", \"RHF_FPP\", \"RHF_FAN\", \"RRE_RRE\", \"RRE_RST\", \"RRE_RVB\", \"RRE_RBZ\", \"RRE_RZO\", \"RRE_RHP\", \"RRE_RPP\", \"RRE_RAN\", \"RRE_FHD\", \"RRE_FHH\", \"RRE_FHF\", \"RRE_FRE\", \"RRE_FST\", \"RRE_FVB\", \"RRE_FBZ\", \"RRE_FZO\", \"RRE_FHP\", \"RRE_FPP\", \"RRE_FAN\", \"RST_RST\", \"RST_RVB\", \"RST_RBZ\", \"RST_RZO\", \"RST_RHP\", \"RST_RPP\", \"RST_RAN\", \"RST_FHD\", \"RST_FHH\", \"RST_FHF\", \"RST_FRE\", \"RST_FST\", \"RST_FVB\", \"RST_FBZ\", \"RST_FZO\", \"RST_FHP\", \"RST_FPP\", \"RST_FAN\", \"RVB_RVB\", \"RVB_RBZ\", \"RVB_RZO\", \"RVB_RHP\", \"RVB_RPP\", \"RVB_RAN\", \"RVB_FHD\", \"RVB_FHH\", \"RVB_FHF\", \"RVB_FRE\", \"RVB_FST\", \"RVB_FVB\", \"RVB_FBZ\", \"RVB_FZO\", \"RVB_FHP\", \"RVB_FPP\", \"RVB_FAN\", \"RBZ_RBZ\", \"RBZ_RZO\", \"RBZ_RHP\", \"RBZ_RPP\", \"RBZ_RAN\", \"RBZ_FHD\", \"RBZ_FHH\", \"RBZ_FHF\", \"RBZ_FRE\", \"RBZ_FST\", \"RBZ_FVB\", \"RBZ_FBZ\", \"RBZ_FZO\", \"RBZ_FHP\", \"RBZ_FPP\", \"RBZ_FAN\", \"RZO_RZO\", \"RZO_RHP\", \"RZO_RPP\", \"RZO_RAN\", \"RZO_FHD\", \"RZO_FHH\", \"RZO_FHF\", \"RZO_FRE\", \"RZO_FST\", \"RZO_FVB\", \"RZO_FBZ\", \"RZO_FZO\", \"RZO_FHP\", \"RZO_FPP\", \"RZO_FAN\", \"RHP_RHP\", \"RHP_RPP\", \"RHP_RAN\", \"RHP_FHD\", \"RHP_FHH\", \"RHP_FHF\", \"RHP_FRE\", \"RHP_FST\", \"RHP_FVB\", \"RHP_FBZ\", \"RHP_FZO\", \"RHP_FHP\", \"RHP_FPP\", \"RHP_FAN\", \"RPP_RPP\", \"RPP_RAN\", \"RPP_FHD\", \"RPP_FHH\", \"RPP_FHF\", \"RPP_FRE\", \"RPP_FST\", \"RPP_FVB\", \"RPP_FBZ\", \"RPP_FZO\", \"RPP_FHP\", \"RPP_FPP\", \"RPP_FAN\", \"RAN_RAN\", \"RAN_FHD\", \"RAN_FHH\", \"RAN_FHF\", \"RAN_FRE\", \"RAN_FST\", \"RAN_FVB\", \"RAN_FBZ\", \"RAN_FZO\", \"RAN_FHP\", \"RAN_FPP\", \"RAN_FAN\", \"FHD_FHD\", \"FHD_FHH\", \"FHD_FHF\", \"FHD_FRE\", \"FHD_FST\", \"FHD_FVB\", \"FHD_FBZ\", \"FHD_FZO\", \"FHD_FHP\", \"FHD_FPP\", \"FHD_FAN\", \"FHH_FHH\", \"FHH_FHF\", \"FHH_FRE\", \"FHH_FST\", \"FHH_FVB\", \"FHH_FBZ\", \"FHH_FZO\", \"FHH_FHP\", \"FHH_FPP\", \"FHH_FAN\", \"FHF_FHF\", \"FHF_FRE\", \"FHF_FST\", \"FHF_FVB\", \"FHF_FBZ\", \"FHF_FZO\", \"FHF_FHP\", \"FHF_FPP\", \"FHF_FAN\", \"FRE_FRE\", \"FRE_FST\", \"FRE_FVB\", \"FRE_FBZ\", \"FRE_FZO\", \"FRE_FHP\", \"FRE_FPP\", \"FRE_FAN\", \"FST_FST\", \"FST_FVB\", \"FST_FBZ\", \"FST_FZO\", \"FST_FHP\", \"FST_FPP\", \"FST_FAN\", \"FVB_FVB\", \"FVB_FBZ\", \"FVB_FZO\", \"FVB_FHP\", \"FVB_FPP\", \"FVB_FAN\", \"FBZ_FBZ\", \"FBZ_FZO\", \"FBZ_FHP\", \"FBZ_FPP\", \"FBZ_FAN\", \"FZO_FZO\", \"FZO_FHP\", \"FZO_FPP\", \"FZO_FAN\", \"FHP_FHP\", \"FHP_FPP\", \"FHP_FAN\", \"FPP_FPP\", \"FPP_FAN\", \"RHD_RZM\", \"RHH_RZM\", \"RHF_RZM\", \"RRE_RZM\", \"RST_RZM\", \"RVB_RZM\", \"RBZ_RZM\", \"RZO_RZM\", \"RHP_RZM\", \"RPP_RZM\", \"RAN_RZM\", \"FHD_RZM\", \"FHH_RZM\", \"FHF_RZM\", \"FRE_RZM\", \"FST_RZM\", \"FVB_RZM\", \"FBZ_RZM\", \"FZO_RZM\", \"FHP_RZM\", \"FPP_RZM\", \"FAN_RZM\", \"RZM_RZM\",,\"RHD_FZM\", \"RHH_FZM\", \"RHF_FZM\", \"RRE_FZM\", \"RST_FZM\", \"RVB_FZM\", \"RBZ_FZM\", \"RZO_FZM\", \"RHP_FZM\", \"RPP_FZM\", \"RAN_FZM\", \"FHD_FZM\", \"FHH_FZM\", \"FHF_FZM\", \"FRE_FZM\", \"FST_FZM\", \"FVB_FZM\", \"FBZ_FZM\", \"FZO_FZM\", \"FHP_FZM\", \"FPP_FZM\", \"FAN_FZM\", \"FZM_FZM\")\u001b[0m\n\u001b[1;37m                                                                                                                                                                                                                                                                                                                                                                                                                                                                                                                                                                                                                                                                                                                                                                                                                                                                                                                                                                                                                                                                                                                                                                                                                                                                                                                                                                                                                                                                                                                                                                                                                                                                                                                                                                                                                                                                                                                                                                                                                                                                                                                                                                                                                                                                                                                                                                                                                                                                                                                                                                                                                                                                                                                                                                                                                                                                                                                                                                                                                                                                                                                                                         ^\u001b[0m\n\u001b[1;31mSyntaxError\u001b[0m\u001b[1;31m:\u001b[0m invalid syntax\n"
     ]
    }
   ],
   "source": [
    "#l = 'RHD', 'RHH', 'RHF','RRE', 'RST', 'RVB','RBZ', 'RZO','RHP','RPP','RAN','FHD', 'FHH', 'FHF','FRE', 'FST', 'FVB','FBZ', 'FZO','FHP','FPP','FAN'\n",
    "\n",
    "l = [\"RHD_RHD\", \"RHD_RHH\", \"RHD_RHF\", \"RHD_RRE\", \"RHD_RST\", \"RHD_RVB\", \"RHD_RBZ\", \"RHD_RZO\", \"RHD_RHP\", \"RHD_RPP\", \"RHD_RAN\", \"RHD_FHD\", \"RHD_FHH\", \"RHD_FHF\", \"RHD_FRE\", \"RHD_FST\", \"RHD_FVB\", \"RHD_FBZ\", \"RHD_FZO\", \"RHD_FHP\", \"RHD_FPP\", \"RHD_FAN\", \"RHH_RHH\", \"RHH_RHF\", \"RHH_RRE\", \"RHH_RST\", \"RHH_RVB\", \"RHH_RBZ\", \"RHH_RZO\", \"RHH_RHP\", \"RHH_RPP\", \"RHH_RAN\", \"RHH_FHD\", \"RHH_FHH\", \"RHH_FHF\", \"RHH_FRE\", \"RHH_FST\", \"RHH_FVB\", \"RHH_FBZ\", \"RHH_FZO\", \"RHH_FHP\", \"RHH_FPP\", \"RHH_FAN\", \"RHF_RHF\", \"RHF_RRE\", \"RHF_RST\", \"RHF_RVB\", \"RHF_RBZ\", \"RHF_RZO\", \"RHF_RHP\", \"RHF_RPP\", \"RHF_RAN\", \"RHF_FHD\", \"RHF_FHH\", \"RHF_FHF\", \"RHF_FRE\", \"RHF_FST\", \"RHF_FVB\", \"RHF_FBZ\", \"RHF_FZO\", \"RHF_FHP\", \"RHF_FPP\", \"RHF_FAN\", \"RRE_RRE\", \"RRE_RST\", \"RRE_RVB\", \"RRE_RBZ\", \"RRE_RZO\", \"RRE_RHP\", \"RRE_RPP\", \"RRE_RAN\", \"RRE_FHD\", \"RRE_FHH\", \"RRE_FHF\", \"RRE_FRE\", \"RRE_FST\", \"RRE_FVB\", \"RRE_FBZ\", \"RRE_FZO\", \"RRE_FHP\", \"RRE_FPP\", \"RRE_FAN\", \"RST_RST\", \"RST_RVB\", \"RST_RBZ\", \"RST_RZO\", \"RST_RHP\", \"RST_RPP\", \"RST_RAN\", \"RST_FHD\", \"RST_FHH\", \"RST_FHF\", \"RST_FRE\", \"RST_FST\", \"RST_FVB\", \"RST_FBZ\", \"RST_FZO\", \"RST_FHP\", \"RST_FPP\", \"RST_FAN\", \"RVB_RVB\", \"RVB_RBZ\", \"RVB_RZO\", \"RVB_RHP\", \"RVB_RPP\", \"RVB_RAN\", \"RVB_FHD\", \"RVB_FHH\", \"RVB_FHF\", \"RVB_FRE\", \"RVB_FST\", \"RVB_FVB\", \"RVB_FBZ\", \"RVB_FZO\", \"RVB_FHP\", \"RVB_FPP\", \"RVB_FAN\", \"RBZ_RBZ\", \"RBZ_RZO\", \"RBZ_RHP\", \"RBZ_RPP\", \"RBZ_RAN\", \"RBZ_FHD\", \"RBZ_FHH\", \"RBZ_FHF\", \"RBZ_FRE\", \"RBZ_FST\", \"RBZ_FVB\", \"RBZ_FBZ\", \"RBZ_FZO\", \"RBZ_FHP\", \"RBZ_FPP\", \"RBZ_FAN\", \"RZO_RZO\", \"RZO_RHP\", \"RZO_RPP\", \"RZO_RAN\", \"RZO_FHD\", \"RZO_FHH\", \"RZO_FHF\", \"RZO_FRE\", \"RZO_FST\", \"RZO_FVB\", \"RZO_FBZ\", \"RZO_FZO\", \"RZO_FHP\", \"RZO_FPP\", \"RZO_FAN\", \"RHP_RHP\", \"RHP_RPP\", \"RHP_RAN\", \"RHP_FHD\", \"RHP_FHH\", \"RHP_FHF\", \"RHP_FRE\", \"RHP_FST\", \"RHP_FVB\", \"RHP_FBZ\", \"RHP_FZO\", \"RHP_FHP\", \"RHP_FPP\", \"RHP_FAN\", \"RPP_RPP\", \"RPP_RAN\", \"RPP_FHD\", \"RPP_FHH\", \"RPP_FHF\", \"RPP_FRE\", \"RPP_FST\", \"RPP_FVB\", \"RPP_FBZ\", \"RPP_FZO\", \"RPP_FHP\", \"RPP_FPP\", \"RPP_FAN\", \"RAN_RAN\", \"RAN_FHD\", \"RAN_FHH\", \"RAN_FHF\", \"RAN_FRE\", \"RAN_FST\", \"RAN_FVB\", \"RAN_FBZ\", \"RAN_FZO\", \"RAN_FHP\", \"RAN_FPP\", \"RAN_FAN\", \"FHD_FHD\", \"FHD_FHH\", \"FHD_FHF\", \"FHD_FRE\", \"FHD_FST\", \"FHD_FVB\", \"FHD_FBZ\", \"FHD_FZO\", \"FHD_FHP\", \"FHD_FPP\", \"FHD_FAN\", \"FHH_FHH\", \"FHH_FHF\", \"FHH_FRE\", \"FHH_FST\", \"FHH_FVB\", \"FHH_FBZ\", \"FHH_FZO\", \"FHH_FHP\", \"FHH_FPP\", \"FHH_FAN\", \"FHF_FHF\", \"FHF_FRE\", \"FHF_FST\", \"FHF_FVB\", \"FHF_FBZ\", \"FHF_FZO\", \"FHF_FHP\", \"FHF_FPP\", \"FHF_FAN\", \"FRE_FRE\", \"FRE_FST\", \"FRE_FVB\", \"FRE_FBZ\", \"FRE_FZO\", \"FRE_FHP\", \"FRE_FPP\", \"FRE_FAN\", \"FST_FST\", \"FST_FVB\", \"FST_FBZ\", \"FST_FZO\", \"FST_FHP\", \"FST_FPP\", \"FST_FAN\", \"FVB_FVB\", \"FVB_FBZ\", \"FVB_FZO\", \"FVB_FHP\", \"FVB_FPP\", \"FVB_FAN\", \"FBZ_FBZ\", \"FBZ_FZO\", \"FBZ_FHP\", \"FBZ_FPP\", \"FBZ_FAN\", \"FZO_FZO\", \"FZO_FHP\", \"FZO_FPP\", \"FZO_FAN\", \"FHP_FHP\", \"FHP_FPP\", \"FHP_FAN\", \"FPP_FPP\", \"FPP_FAN\", \"RHD_RZM\", \"RHH_RZM\", \"RHF_RZM\", \"RRE_RZM\", \"RST_RZM\", \"RVB_RZM\", \"RBZ_RZM\", \"RZO_RZM\", \"RHP_RZM\", \"RPP_RZM\", \"RAN_RZM\", \"FHD_RZM\", \"FHH_RZM\", \"FHF_RZM\", \"FRE_RZM\", \"FST_RZM\", \"FVB_RZM\", \"FBZ_RZM\", \"FZO_RZM\", \"FHP_RZM\", \"FPP_RZM\", \"FAN_RZM\", \"RZM_RZM\",,\"RHD_FZM\", \"RHH_FZM\", \"RHF_FZM\", \"RRE_FZM\", \"RST_FZM\", \"RVB_FZM\", \"RBZ_FZM\", \"RZO_FZM\", \"RHP_FZM\", \"RPP_FZM\", \"RAN_FZM\", \"FHD_FZM\", \"FHH_FZM\", \"FHF_FZM\", \"FRE_FZM\", \"FST_FZM\", \"FVB_FZM\", \"FBZ_FZM\", \"FZO_FZM\", \"FHP_FZM\", \"FPP_FZM\", \"FAN_FZM\", \"FZM_FZM\"]\n",
    "o = \"RHD\"#, 'RHH', 'RHF','RRE', 'RST', 'RVB','RBZ', 'RZO','RHP','RPP','RAN','FHD', 'FHH', 'FHF','FRE', 'FST', 'FVB','FBZ', 'FZO','FHP','FPP','FAN'\n",
    "\n",
    "ans = ' '\n",
    "for i in l:\n",
    "    ans = (ans+'<xs:enumeration value=\"'+o+'_'+i+'\"/>'+'\\n')\n",
    "print(ans)\n",
    "#f1=open('protagon.txt', 'a')\n",
    "#f1.write(ans)\n",
    "#f1.close()"
   ]
  },
  {
   "cell_type": "code",
   "execution_count": null,
   "id": "401a4eb2",
   "metadata": {},
   "outputs": [],
   "source": []
  },
  {
   "cell_type": "code",
   "execution_count": null,
   "id": "383dea67",
   "metadata": {},
   "outputs": [],
   "source": []
  }
 ],
 "metadata": {
  "kernelspec": {
   "display_name": "Python 3 (ipykernel)",
   "language": "python",
   "name": "python3"
  },
  "language_info": {
   "codemirror_mode": {
    "name": "ipython",
    "version": 3
   },
   "file_extension": ".py",
   "mimetype": "text/x-python",
   "name": "python",
   "nbconvert_exporter": "python",
   "pygments_lexer": "ipython3",
   "version": "3.9.7"
  }
 },
 "nbformat": 4,
 "nbformat_minor": 5
}

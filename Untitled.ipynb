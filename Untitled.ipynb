{
 "cells": [
  {
   "cell_type": "code",
   "execution_count": 1,
   "id": "e2573d02",
   "metadata": {},
   "outputs": [],
   "source": [
    "import xml.etree.ElementTree as ET\n",
    "\n",
    "def process_xml(input_file, output_file):\n",
    "    # XML-Dokument parsen\n",
    "    tree = ET.parse(input_file)\n",
    "    root = tree.getroot()\n",
    "\n",
    "    # Segmente iterieren\n",
    "    for seg in root.findall('.//seg'):  # Alle <seg>-Elemente finden\n",
    "        b1_ana = seg.get('b1:ana')  # Wert des Attributs b1:ana\n",
    "        if b1_ana == \"Ortswechsel_durchführen\":\n",
    "            # Änderungen nur durchführen, wenn Bedingung erfüllt ist\n",
    "            new_attributes = {}\n",
    "            attributes = list(seg.attrib.items())\n",
    "            found_c1 = False\n",
    "\n",
    "            for key, value in attributes:\n",
    "                if \"c1:ana\" in key:  # c1:ana überspringen\n",
    "                    found_c1 = True\n",
    "                    continue\n",
    "                elif found_c1 and (\"b\" in key or \"c\" in key):  # Verschieben der Namensräume b und c\n",
    "                    prefix, num = key.split(\":\")[0], int(key.split(\":\")[1][1:])\n",
    "                    new_key = f\"{prefix}{num - 1}:ana\"\n",
    "                    new_attributes[new_key] = value\n",
    "                else:\n",
    "                    new_attributes[key] = value\n",
    "\n",
    "            # Neuen Eintrag vor d:ana hinzufügen\n",
    "            if \"d:ana\" in new_attributes:\n",
    "                temp_attrs = {}\n",
    "                for k, v in new_attributes.items():\n",
    "                    if k == \"d:ana\":\n",
    "                        temp_attrs[\"b5:ana\"] = \"N\"\n",
    "                        temp_attrs[\"c5:ana\"] = \"N\"\n",
    "                    temp_attrs[k] = v\n",
    "                new_attributes = temp_attrs\n",
    "\n",
    "            # Aktualisierte Attribute zurückschreiben\n",
    "            seg.attrib.clear()\n",
    "            seg.attrib.update(new_attributes)\n",
    "\n",
    "    # Modifizierte XML-Datei speichern\n",
    "    tree.write(output_file, encoding=\"unicode\", xml_declaration=True)\n",
    "\n",
    "# Eingabe- und Ausgabedateien\n",
    "input_file = \"gesamt_märchen.xml\"\n",
    "output_file = \"gesamt_märchen_output.xml\"\n",
    "\n",
    "process_xml(input_file, output_file)\n"
   ]
  },
  {
   "cell_type": "code",
   "execution_count": null,
   "id": "0705d4e5",
   "metadata": {},
   "outputs": [],
   "source": []
  }
 ],
 "metadata": {
  "kernelspec": {
   "display_name": "Python 3 (ipykernel)",
   "language": "python",
   "name": "python3"
  },
  "language_info": {
   "codemirror_mode": {
    "name": "ipython",
    "version": 3
   },
   "file_extension": ".py",
   "mimetype": "text/x-python",
   "name": "python",
   "nbconvert_exporter": "python",
   "pygments_lexer": "ipython3",
   "version": "3.11.5"
  }
 },
 "nbformat": 4,
 "nbformat_minor": 5
}
